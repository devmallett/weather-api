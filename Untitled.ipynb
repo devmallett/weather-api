{
 "cells": [
  {
   "cell_type": "code",
   "execution_count": 2,
   "id": "e09ae260",
   "metadata": {},
   "outputs": [
    {
     "name": "stdout",
     "output_type": "stream",
     "text": [
      "{\"name\": \"John\", \"age\": 31, \"Salary\": 25000}\n"
     ]
    }
   ],
   "source": [
    "import json\n",
    " \n",
    "# {key:value mapping}\n",
    "a ={\"name\":\"John\",\n",
    "   \"age\":31,\n",
    "    \"Salary\":25000}\n",
    " \n",
    "# conversion to JSON done by dumps() function\n",
    "b = json.dumps(a)\n",
    " \n",
    "# printing the output\n",
    "print(b)"
   ]
  },
  {
   "cell_type": "code",
   "execution_count": null,
   "id": "1a173117",
   "metadata": {},
   "outputs": [],
   "source": []
  }
 ],
 "metadata": {
  "kernelspec": {
   "display_name": "Python 3 (ipykernel)",
   "language": "python",
   "name": "python3"
  },
  "language_info": {
   "codemirror_mode": {
    "name": "ipython",
    "version": 3
   },
   "file_extension": ".py",
   "mimetype": "text/x-python",
   "name": "python",
   "nbconvert_exporter": "python",
   "pygments_lexer": "ipython3",
   "version": "3.9.7"
  }
 },
 "nbformat": 4,
 "nbformat_minor": 5
}
